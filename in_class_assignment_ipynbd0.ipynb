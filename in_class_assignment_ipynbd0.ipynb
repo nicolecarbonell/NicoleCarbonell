{
  "nbformat": 4,
  "nbformat_minor": 0,
  "metadata": {
    "colab": {
      "provenance": [],
      "authorship_tag": "ABX9TyP1g4cHjxIVkczJhh2/1nHf",
      "include_colab_link": true
    },
    "kernelspec": {
      "name": "python3",
      "display_name": "Python 3"
    },
    "language_info": {
      "name": "python"
    }
  },
  "cells": [
    {
      "cell_type": "markdown",
      "metadata": {
        "id": "view-in-github",
        "colab_type": "text"
      },
      "source": [
        "<a href=\"https://colab.research.google.com/github/nicolecarbonell/NicoleCarbonell/blob/main/in_class_assignment_ipynbd0.ipynb\" target=\"_parent\"><img src=\"https://colab.research.google.com/assets/colab-badge.svg\" alt=\"Open In Colab\"/></a>"
      ]
    },
    {
      "cell_type": "markdown",
      "source": [
        "**Surface area of a cylinder**"
      ],
      "metadata": {
        "id": "4aYymf-v3uS3"
      }
    },
    {
      "cell_type": "code",
      "execution_count": null,
      "metadata": {
        "colab": {
          "base_uri": "https://localhost:8080/"
        },
        "id": "khmZGyyPyhCi",
        "outputId": "6acb4cab-4e11-4233-f8cc-61e30bcac67e"
      },
      "outputs": [
        {
          "output_type": "stream",
          "name": "stdout",
          "text": [
            "208.1192\n"
          ]
        }
      ],
      "source": [
        "r=3\n",
        "h=10\n",
        "pi=3.14\n",
        "area=2*pi**2+2*pi*r*h\n",
        "print(area)"
      ]
    },
    {
      "cell_type": "markdown",
      "source": [
        "**Rock Paper scissors**"
      ],
      "metadata": {
        "id": "CulHnvhV37_7"
      }
    },
    {
      "cell_type": "code",
      "source": [
        "import random\n",
        "\n",
        "c = input ('Do you want to play game? yes or no:')\n",
        "\n",
        "while c == 'yes':\n",
        "  p1 = input('choose rock, paper, or scissors: ')\n",
        "  p2 = random.choice(['rock','paper','scissors'])\n",
        "\n",
        "  print(f'computer chose{p2}.')\n",
        "\n",
        "  if p1 == p2:\n",
        "    print('draw')\n",
        "\n",
        "  elif (p1 == 'rock' and p2 == 'scissors') or (p1 == 'paper' and p2 == 'rock') or (p1 == 'scissors'):\n",
        "    print('you win')\n",
        "\n",
        "  else:\n",
        "    print('computer wins')\n",
        "\n",
        "  c = input('do you want to play again? yes or no: ')"
      ],
      "metadata": {
        "colab": {
          "base_uri": "https://localhost:8080/"
        },
        "id": "XA9yjA4p4LqS",
        "outputId": "af02cd1e-1f05-4ab3-cb6f-e78857675ed6"
      },
      "execution_count": null,
      "outputs": [
        {
          "name": "stdout",
          "output_type": "stream",
          "text": [
            "Do you want to play game? yes or no:no\n"
          ]
        }
      ]
    },
    {
      "cell_type": "markdown",
      "source": [
        "**Numerical Calculator**"
      ],
      "metadata": {
        "id": "mReXjlGO6FzK"
      }
    },
    {
      "cell_type": "code",
      "source": [
        "n1=float(2)\n",
        "n2=float(3)\n",
        "\n",
        "symbol=input(\"Choose op *, /, +,- \")\n",
        "\n",
        "if symbol=='*':\n",
        "  print (f' n1 * n2= {n1* n2}')\n",
        "elif symbol=='/':\n",
        "  print (f' n1 / n2= {n1/ n2}')\n",
        "elif symbol=='-':\n",
        "  print (f' n1 - n2= {n1- n2}')\n",
        "else:\n",
        "  print (f' n1 + n2= {n1+ n2}')\n",
        "\n",
        "\n"
      ],
      "metadata": {
        "id": "9o_AOFb_9Yt1"
      },
      "execution_count": null,
      "outputs": []
    },
    {
      "cell_type": "markdown",
      "source": [
        "**Parking Garage**"
      ],
      "metadata": {
        "id": "coTQGCYI6Yj5"
      }
    },
    {
      "cell_type": "code",
      "source": [
        "flat=5\n",
        "\n",
        "for t in range (1,9):\n",
        "  charge= flat + 2.50 * t\n",
        "  if charge < 10:\n",
        "    charge=10\n",
        "  elif charge > 20:\n",
        "    charge=20\n",
        "  print(t,charge)\n"
      ],
      "metadata": {
        "colab": {
          "base_uri": "https://localhost:8080/"
        },
        "id": "NiTaz_3FCpfG",
        "outputId": "2931f8ee-f758-4bdb-ec19-93e1cebdc195"
      },
      "execution_count": null,
      "outputs": [
        {
          "output_type": "stream",
          "name": "stdout",
          "text": [
            "1 10\n",
            "2 10.0\n",
            "3 12.5\n",
            "4 15.0\n",
            "5 17.5\n",
            "6 20.0\n",
            "7 20\n",
            "8 20\n"
          ]
        }
      ]
    },
    {
      "cell_type": "markdown",
      "source": [
        "**Movie Theater**"
      ],
      "metadata": {
        "id": "O4Kw-E4O6gyz"
      }
    },
    {
      "cell_type": "code",
      "source": [
        "TicketPrice = 10\n",
        "fixedCost = 200\n",
        "standardAttendees = 20\n",
        "\n",
        "for advertising in range(0, 201, 25):\n",
        "    profit = 10 * (standardAttendees + 2 * round(advertising**0.5)) - fixedCost - advertising\n",
        "    print(advertising,profit)"
      ],
      "metadata": {
        "colab": {
          "base_uri": "https://localhost:8080/"
        },
        "id": "vuKeYhDeJCc2",
        "outputId": "35848c39-3e3d-40bd-977b-592bc10bc115"
      },
      "execution_count": null,
      "outputs": [
        {
          "output_type": "stream",
          "name": "stdout",
          "text": [
            "0 0\n",
            "25 75\n",
            "50 90\n",
            "75 105\n",
            "100 100\n",
            "125 95\n",
            "150 90\n",
            "175 85\n",
            "200 80\n"
          ]
        }
      ]
    },
    {
      "cell_type": "markdown",
      "source": [
        "**Month/Number Dictionary**"
      ],
      "metadata": {
        "id": "LxUoR6CJ6q8N"
      }
    },
    {
      "cell_type": "code",
      "source": [
        "months = {}\n",
        "\n",
        "names = ['Jan', 'Feb', 'Mar','Apr','May', 'Jun','Jul','Aug', 'Sep','Oct', 'Nov', 'Dec']\n",
        "\n",
        "Numbers = [1,2,3,4,5,6,7,8,9,10,11,12]\n",
        "\n",
        "for i in range(len(Numbers)) :\n",
        "  months[Numbers[i]] = names[i]\n",
        "print(months)"
      ],
      "metadata": {
        "colab": {
          "base_uri": "https://localhost:8080/"
        },
        "id": "JICu9n08Fe7r",
        "outputId": "164bbe39-fd57-43c6-aba4-0014a46ee4e4"
      },
      "execution_count": null,
      "outputs": [
        {
          "output_type": "stream",
          "name": "stdout",
          "text": [
            "{1: 'Jan', 2: 'Feb', 3: 'Mar', 4: 'Apr', 5: 'May', 6: 'Jun', 7: 'Jul', 8: 'Aug', 9: 'Sep', 10: 'Oct', 11: 'Nov', 12: 'Dec'}\n"
          ]
        }
      ]
    },
    {
      "cell_type": "markdown",
      "source": [
        "**Fee Calculation and Display Functions**"
      ],
      "metadata": {
        "id": "2D7Iec9n63ic"
      }
    },
    {
      "cell_type": "code",
      "source": [
        "def calcFee(hours, decimals=2):\n",
        "  fee = 5 + hours * 2.5\n",
        "  fee = round(fee, decimals)\n",
        "  return fee\n",
        "\n",
        "def displayFee(fee):\n",
        "  print('Parking fee: ','$',fee)\n",
        "\n",
        "h = int(input('Enter number of hours parked: '))\n",
        "fee = calcFee(h)\n",
        "displayFee(fee)"
      ],
      "metadata": {
        "colab": {
          "base_uri": "https://localhost:8080/"
        },
        "id": "_eGR3xCF_Cp3",
        "outputId": "8abb2425-b641-41a4-d272-3bb0decda9fc"
      },
      "execution_count": null,
      "outputs": [
        {
          "output_type": "stream",
          "name": "stdout",
          "text": [
            "Enter number of hours parked: 4\n",
            "Parking fee:  $ 15.0\n"
          ]
        }
      ]
    },
    {
      "cell_type": "markdown",
      "source": [
        "**Reverse Function (Recurrsion)**"
      ],
      "metadata": {
        "id": "vlFAiQoH65rZ"
      }
    },
    {
      "cell_type": "code",
      "source": [
        "def rev(s):\n",
        "    if len(s) == 1:\n",
        "        return s\n",
        "    else:\n",
        "        return rev(s[1:]) + s[0]\n",
        "\n",
        "\n",
        "print(rev(\"hello\"))"
      ],
      "metadata": {
        "colab": {
          "base_uri": "https://localhost:8080/"
        },
        "id": "5vBSLsJRQNSh",
        "outputId": "a1408591-f9cc-4825-bff9-f7fa1bc41e41"
      },
      "execution_count": null,
      "outputs": [
        {
          "output_type": "stream",
          "name": "stdout",
          "text": [
            "olleh\n"
          ]
        }
      ]
    },
    {
      "cell_type": "markdown",
      "source": [
        "**Student Class**"
      ],
      "metadata": {
        "id": "rRk45jUE7AxW"
      }
    },
    {
      "cell_type": "code",
      "source": [
        "class Student:\n",
        "    def __init__(self, name, number):\n",
        "        self.name = name\n",
        "        self.number = number\n",
        "        self.courses = []\n",
        "\n",
        "    def enroll(self, course):\n",
        "      if course not in self.courses:\n",
        "        self.courses.append(course)\n",
        "      else:\n",
        "        print(f'Already enrolled in {course}')\n",
        "\n",
        "    def get_courses(self):\n",
        "      return self.courses\n",
        "\n",
        "s1 = Student('James Bond', 307)\n",
        "s2 = Student('Clark. Kent', 333)\n",
        "s3 = Student('Jane Doe', 1111)"
      ],
      "metadata": {
        "id": "UCNKX1U38AA8"
      },
      "execution_count": null,
      "outputs": []
    },
    {
      "cell_type": "code",
      "source": [
        "s1.name, s2.name, s3.name"
      ],
      "metadata": {
        "colab": {
          "base_uri": "https://localhost:8080/"
        },
        "id": "NSfhf9g29DIe",
        "outputId": "b7a5756c-0540-4862-d239-0ae6f7931886"
      },
      "execution_count": null,
      "outputs": [
        {
          "output_type": "execute_result",
          "data": {
            "text/plain": [
              "('James Bond', 'Clark. Kent', 'Jane Doe')"
            ]
          },
          "metadata": {},
          "execution_count": 16
        }
      ]
    },
    {
      "cell_type": "code",
      "source": [
        "s3.enroll('BTE 420')"
      ],
      "metadata": {
        "id": "3B24O89t-XcU"
      },
      "execution_count": null,
      "outputs": []
    },
    {
      "cell_type": "code",
      "source": [
        "s3.get_courses()"
      ],
      "metadata": {
        "colab": {
          "base_uri": "https://localhost:8080/"
        },
        "id": "iCboMzut-jgs",
        "outputId": "c74b3a3e-6535-47fc-c48e-f7fac22ea9da"
      },
      "execution_count": null,
      "outputs": [
        {
          "output_type": "execute_result",
          "data": {
            "text/plain": [
              "['BTE 420']"
            ]
          },
          "metadata": {},
          "execution_count": 18
        }
      ]
    }
  ]
}