{
  "nbformat": 4,
  "nbformat_minor": 0,
  "metadata": {
    "colab": {
      "provenance": [],
      "authorship_tag": "ABX9TyOQAYTBla206ozfchHpc2d/",
      "include_colab_link": true
    },
    "kernelspec": {
      "name": "python3",
      "display_name": "Python 3"
    },
    "language_info": {
      "name": "python"
    }
  },
  "cells": [
    {
      "cell_type": "markdown",
      "metadata": {
        "id": "view-in-github",
        "colab_type": "text"
      },
      "source": [
        "<a href=\"https://colab.research.google.com/github/nicolecarbonell/NicoleCarbonell/blob/main/In_class_Assignment_ipynbd0_.ipynb\" target=\"_parent\"><img src=\"https://colab.research.google.com/assets/colab-badge.svg\" alt=\"Open In Colab\"/></a>"
      ]
    },
    {
      "cell_type": "code",
      "execution_count": null,
      "metadata": {
        "colab": {
          "base_uri": "https://localhost:8080/"
        },
        "id": "khmZGyyPyhCi",
        "outputId": "6acb4cab-4e11-4233-f8cc-61e30bcac67e"
      },
      "outputs": [
        {
          "output_type": "stream",
          "name": "stdout",
          "text": [
            "208.1192\n"
          ]
        }
      ],
      "source": [
        "r=3\n",
        "h=10\n",
        "pi=3.14\n",
        "area=2*pi**2+2*pi*r*h\n",
        "print(area)"
      ]
    },
    {
      "cell_type": "code",
      "source": [
        "p1= input(\"choose r, e,s\")\n",
        "p2= input(\"choose r, e,s\")\n",
        "\n",
        "if p1==p2:\n",
        "  print('Draw')\n",
        "elif (p1=='r' and p2=='s') or (p1=='s'and p2=='p') or (p1=='p'and p2=='r'):\n",
        "\tprint('p1 wins')\n",
        "else:\n",
        "  print('p2 wins')"
      ],
      "metadata": {
        "colab": {
          "base_uri": "https://localhost:8080/"
        },
        "id": "TKLHNdbZ4o3U",
        "outputId": "f42c6bd5-dd58-47b9-d3ce-3ed0cd7acc4a"
      },
      "execution_count": null,
      "outputs": [
        {
          "output_type": "stream",
          "name": "stdout",
          "text": [
            "choose r, e,ss\n",
            "choose r, e,se\n",
            "p2 wins\n"
          ]
        }
      ]
    },
    {
      "cell_type": "code",
      "source": [
        "n1=float(2)\n",
        "n2=float(3)\n",
        "\n",
        "symbol=input(\"Choose op *, /, +,- \")\n",
        "\n",
        "if symbol=='*':\n",
        "  print (f' n1 * n2= {n1* n2}')\n",
        "elif symbol=='/':\n",
        "  print (f' n1 / n2= {n1/ n2}')\n",
        "elif symbol=='-':\n",
        "  print (f' n1 - n2= {n1- n2}')\n",
        "else:\n",
        "  print (f' n1 + n2= {n1+ n2}')\n",
        "\n",
        "\n"
      ],
      "metadata": {
        "id": "9o_AOFb_9Yt1"
      },
      "execution_count": null,
      "outputs": []
    }
  ]
}