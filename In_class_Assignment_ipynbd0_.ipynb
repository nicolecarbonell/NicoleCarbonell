{
  "nbformat": 4,
  "nbformat_minor": 0,
  "metadata": {
    "colab": {
      "provenance": [],
      "authorship_tag": "ABX9TyNe0mLi2z6qWefYMVlUpCWx",
      "include_colab_link": true
    },
    "kernelspec": {
      "name": "python3",
      "display_name": "Python 3"
    },
    "language_info": {
      "name": "python"
    }
  },
  "cells": [
    {
      "cell_type": "markdown",
      "metadata": {
        "id": "view-in-github",
        "colab_type": "text"
      },
      "source": [
        "<a href=\"https://colab.research.google.com/github/nicolecarbonell/NicoleCarbonell/blob/main/In_class_Assignment_ipynbd0_.ipynb\" target=\"_parent\"><img src=\"https://colab.research.google.com/assets/colab-badge.svg\" alt=\"Open In Colab\"/></a>"
      ]
    },
    {
      "cell_type": "code",
      "execution_count": null,
      "metadata": {
        "colab": {
          "base_uri": "https://localhost:8080/"
        },
        "id": "khmZGyyPyhCi",
        "outputId": "6acb4cab-4e11-4233-f8cc-61e30bcac67e"
      },
      "outputs": [
        {
          "output_type": "stream",
          "name": "stdout",
          "text": [
            "208.1192\n"
          ]
        }
      ],
      "source": [
        "r=3\n",
        "h=10\n",
        "pi=3.14\n",
        "area=2*pi**2+2*pi*r*h\n",
        "print(area)"
      ]
    },
    {
      "cell_type": "code",
      "source": [
        "p1= input(\"choose r, e,s\")\n",
        "p2= input(\"choose r, e,s\")\n",
        "\n",
        "if p1==p2:\n",
        "  print('draw')\n",
        "elif (p1=='p’ and p2=='s') or (p1=='s' and p2=='p') or (p1=='p' and p2=='r')\n",
        "\tprint('p1 wins')\n",
        "else:\n",
        "     print('p2 wins'):"
      ],
      "metadata": {
        "colab": {
          "base_uri": "https://localhost:8080/",
          "height": 105
        },
        "id": "TKLHNdbZ4o3U",
        "outputId": "c201a8e9-fda7-4625-e375-89f0b0f28df5"
      },
      "execution_count": 5,
      "outputs": [
        {
          "output_type": "error",
          "ename": "SyntaxError",
          "evalue": "unterminated string literal (detected at line 6) (<ipython-input-5-6ab56ff5e456>, line 6)",
          "traceback": [
            "\u001b[0;36m  File \u001b[0;32m\"<ipython-input-5-6ab56ff5e456>\"\u001b[0;36m, line \u001b[0;32m6\u001b[0m\n\u001b[0;31m    elif(p1=='p’ and p2=='s') or (p1=='s' and p2=='p') or (p1=='p' and p2=='r')\u001b[0m\n\u001b[0m                                                                            ^\u001b[0m\n\u001b[0;31mSyntaxError\u001b[0m\u001b[0;31m:\u001b[0m unterminated string literal (detected at line 6)\n"
          ]
        }
      ]
    }
  ]
}